{
 "cells": [
  {
   "cell_type": "markdown",
   "metadata": {},
   "source": [
    "# DATA CLEANING EXERCISE"
   ]
  },
  {
   "cell_type": "markdown",
   "metadata": {},
   "source": [
    "# Imports"
   ]
  },
  {
   "cell_type": "code",
   "execution_count": 2,
   "metadata": {},
   "outputs": [],
   "source": [
    "import pandas as pd"
   ]
  },
  {
   "cell_type": "markdown",
   "metadata": {},
   "source": [
    "# Problem: The Movie Revenue Dataset"
   ]
  },
  {
   "cell_type": "markdown",
   "metadata": {},
   "source": [
    "## Dataset Description\n",
    "This dataset has been obtained from https://www.the-numbers.com/movie/budgets\n",
    "\n",
    "This data has already been saved in a csv file called 'Movie_Revenue_Dataset.csv' and provided with this notebook.\n",
    "\n",
    "The csv file contains 6 columns (A to F) as follows:\n",
    "- Column A: Rank or serial number of the movie as per the production budget. Movies are ranked in decreasing order of their respective production budgets.\n",
    "- Column B: Release date of the movie.\n",
    "- Column C: Title of the movie.\n",
    "- Column D: Production budget of the movie in dollars.\n",
    "- Column E: Domestic gross in dollars made by the movie.\n",
    "- Column F: Worldwide gross in dollars made by the movie.\n",
    "\n",
    "## Exploring the Dataset in Microsoft Excel\n",
    "Open the file in Microsoft Excel and try identifying problems with data.\n",
    "\n",
    "Observe the following:\n",
    "- There is a total of 6169 entries in the dataset.\n",
    "- Different columns have different datatypes. In Microsoft Excel, strings are right-aligned and numbers are left-aligned. Column B 'Release Date' is of 'date' type.\n",
    "- In 'Release date' some entries are missing (see rows 793 and 1270); 'Unknown' is written instead. These are missing attribute values. \n",
    "- Some values are 0 in Columns E and F. These movies could be the ones which were never released or may be the attribute values are missing.\n",
    "- The heading of some columns have gaps in between the two words. This could create problem when reading these heading in Python as Python variable names do not allow spaces.\n",
    "- The number given in columns D, E and F are comma-separated. This can create problem when reading these columns into Python as integers.\n"
   ]
  },
  {
   "cell_type": "markdown",
   "metadata": {},
   "source": [
    "## Exploring the Dataset in Python\n",
    "### Loading Data"
   ]
  },
  {
   "cell_type": "code",
   "execution_count": 3,
   "metadata": {},
   "outputs": [
    {
     "data": {
      "text/html": [
       "<div>\n",
       "<style scoped>\n",
       "    .dataframe tbody tr th:only-of-type {\n",
       "        vertical-align: middle;\n",
       "    }\n",
       "\n",
       "    .dataframe tbody tr th {\n",
       "        vertical-align: top;\n",
       "    }\n",
       "\n",
       "    .dataframe thead th {\n",
       "        text-align: right;\n",
       "    }\n",
       "</style>\n",
       "<table border=\"1\" class=\"dataframe\">\n",
       "  <thead>\n",
       "    <tr style=\"text-align: right;\">\n",
       "      <th></th>\n",
       "      <th>Rank</th>\n",
       "      <th>Release Date</th>\n",
       "      <th>Title</th>\n",
       "      <th>Production Budget</th>\n",
       "      <th>Domestic Gross</th>\n",
       "      <th>Worldwide Gross</th>\n",
       "    </tr>\n",
       "  </thead>\n",
       "  <tbody>\n",
       "    <tr>\n",
       "      <th>0</th>\n",
       "      <td>1</td>\n",
       "      <td>23-Apr-19</td>\n",
       "      <td>Avengers: Endgame</td>\n",
       "      <td>400,000,000</td>\n",
       "      <td>858,373,000</td>\n",
       "      <td>2,797,800,564</td>\n",
       "    </tr>\n",
       "    <tr>\n",
       "      <th>1</th>\n",
       "      <td>2</td>\n",
       "      <td>20-May-11</td>\n",
       "      <td>Pirates of the Caribbean: On Stranger Tides</td>\n",
       "      <td>379,000,000</td>\n",
       "      <td>241,071,802</td>\n",
       "      <td>1,045,713,802</td>\n",
       "    </tr>\n",
       "    <tr>\n",
       "      <th>2</th>\n",
       "      <td>3</td>\n",
       "      <td>22-Apr-15</td>\n",
       "      <td>Avengers: Age of Ultron</td>\n",
       "      <td>365,000,000</td>\n",
       "      <td>459,005,868</td>\n",
       "      <td>1,395,316,979</td>\n",
       "    </tr>\n",
       "    <tr>\n",
       "      <th>3</th>\n",
       "      <td>4</td>\n",
       "      <td>16-Dec-15</td>\n",
       "      <td>Star Wars Ep. VII: The Force Awakens</td>\n",
       "      <td>306,000,000</td>\n",
       "      <td>936,662,225</td>\n",
       "      <td>2,064,615,817</td>\n",
       "    </tr>\n",
       "    <tr>\n",
       "      <th>4</th>\n",
       "      <td>5</td>\n",
       "      <td>25-Apr-18</td>\n",
       "      <td>Avengers: Infinity War</td>\n",
       "      <td>300,000,000</td>\n",
       "      <td>678,815,482</td>\n",
       "      <td>2,044,540,523</td>\n",
       "    </tr>\n",
       "    <tr>\n",
       "      <th>...</th>\n",
       "      <td>...</td>\n",
       "      <td>...</td>\n",
       "      <td>...</td>\n",
       "      <td>...</td>\n",
       "      <td>...</td>\n",
       "      <td>...</td>\n",
       "    </tr>\n",
       "    <tr>\n",
       "      <th>6164</th>\n",
       "      <td>6165</td>\n",
       "      <td>Unknown</td>\n",
       "      <td>Red 11</td>\n",
       "      <td>7,000</td>\n",
       "      <td>0</td>\n",
       "      <td>0</td>\n",
       "    </tr>\n",
       "    <tr>\n",
       "      <th>6165</th>\n",
       "      <td>6166</td>\n",
       "      <td>02-Apr-99</td>\n",
       "      <td>Following</td>\n",
       "      <td>6,000</td>\n",
       "      <td>48,482</td>\n",
       "      <td>240,495</td>\n",
       "    </tr>\n",
       "    <tr>\n",
       "      <th>6166</th>\n",
       "      <td>6167</td>\n",
       "      <td>13-Jul-05</td>\n",
       "      <td>Return to the Land of Wonders</td>\n",
       "      <td>5,000</td>\n",
       "      <td>1,338</td>\n",
       "      <td>1,338</td>\n",
       "    </tr>\n",
       "    <tr>\n",
       "      <th>6167</th>\n",
       "      <td>6168</td>\n",
       "      <td>29-Sep-15</td>\n",
       "      <td>A Plague So Pleasant</td>\n",
       "      <td>1,400</td>\n",
       "      <td>0</td>\n",
       "      <td>0</td>\n",
       "    </tr>\n",
       "    <tr>\n",
       "      <th>6168</th>\n",
       "      <td>6169</td>\n",
       "      <td>05-Aug-05</td>\n",
       "      <td>My Date With Drew</td>\n",
       "      <td>1,100</td>\n",
       "      <td>181,041</td>\n",
       "      <td>181,041</td>\n",
       "    </tr>\n",
       "  </tbody>\n",
       "</table>\n",
       "<p>6169 rows × 6 columns</p>\n",
       "</div>"
      ],
      "text/plain": [
       "      Rank Release Date                                        Title  \\\n",
       "0        1    23-Apr-19                            Avengers: Endgame   \n",
       "1        2    20-May-11  Pirates of the Caribbean: On Stranger Tides   \n",
       "2        3    22-Apr-15                      Avengers: Age of Ultron   \n",
       "3        4    16-Dec-15         Star Wars Ep. VII: The Force Awakens   \n",
       "4        5    25-Apr-18                       Avengers: Infinity War   \n",
       "...    ...          ...                                          ...   \n",
       "6164  6165      Unknown                                       Red 11   \n",
       "6165  6166    02-Apr-99                                    Following   \n",
       "6166  6167    13-Jul-05                Return to the Land of Wonders   \n",
       "6167  6168    29-Sep-15                         A Plague So Pleasant   \n",
       "6168  6169    05-Aug-05                            My Date With Drew   \n",
       "\n",
       "     Production Budget Domestic Gross Worldwide Gross  \n",
       "0          400,000,000    858,373,000   2,797,800,564  \n",
       "1          379,000,000    241,071,802   1,045,713,802  \n",
       "2          365,000,000    459,005,868   1,395,316,979  \n",
       "3          306,000,000    936,662,225   2,064,615,817  \n",
       "4          300,000,000    678,815,482   2,044,540,523  \n",
       "...                ...            ...             ...  \n",
       "6164             7,000              0               0  \n",
       "6165             6,000         48,482         240,495  \n",
       "6166             5,000          1,338           1,338  \n",
       "6167             1,400              0               0  \n",
       "6168             1,100        181,041         181,041  \n",
       "\n",
       "[6169 rows x 6 columns]"
      ]
     },
     "execution_count": 3,
     "metadata": {},
     "output_type": "execute_result"
    }
   ],
   "source": [
    "#Reading the file into a dataframe using pandas method 'read_csv'\n",
    "data=pd.read_csv('D1_Movie_Revenue_Dataset.csv')\n",
    "#Displaying the read contents\n",
    "data"
   ]
  },
  {
   "cell_type": "markdown",
   "metadata": {},
   "source": [
    "### Exploring Data"
   ]
  },
  {
   "cell_type": "code",
   "execution_count": 4,
   "metadata": {},
   "outputs": [
    {
     "data": {
      "text/plain": [
       "pandas.core.frame.DataFrame"
      ]
     },
     "execution_count": 4,
     "metadata": {},
     "output_type": "execute_result"
    }
   ],
   "source": [
    "#Finding datatype of data\n",
    "type(data)\n",
    "#The data has been read as a dataframe"
   ]
  },
  {
   "cell_type": "code",
   "execution_count": 5,
   "metadata": {},
   "outputs": [
    {
     "name": "stdout",
     "output_type": "stream",
     "text": [
      "<class 'pandas.core.frame.DataFrame'>\n",
      "RangeIndex: 6169 entries, 0 to 6168\n",
      "Data columns (total 6 columns):\n",
      " #   Column             Non-Null Count  Dtype \n",
      "---  ------             --------------  ----- \n",
      " 0   Rank               6169 non-null   int64 \n",
      " 1   Release Date       6169 non-null   object\n",
      " 2   Title              6169 non-null   object\n",
      " 3   Production Budget  6169 non-null   object\n",
      " 4   Domestic Gross     6169 non-null   object\n",
      " 5   Worldwide Gross    6169 non-null   object\n",
      "dtypes: int64(1), object(5)\n",
      "memory usage: 289.3+ KB\n"
     ]
    }
   ],
   "source": [
    "data.info()\n",
    "#This information shows that each column has 6169 entries. \n",
    "#Non of the columns contain any 'null' value, however we kmow that there are some unwanted values ('unknown' and 0) in some columns.\n",
    "#Datatype of only first column is 'integer', and remaining are 'object' showing that these are read as strings."
   ]
  },
  {
   "cell_type": "markdown",
   "metadata": {},
   "source": [
    "## Cleaning the Dataset\n",
    "Suppose we want to use this data to predict the movie revenue.\n",
    "\n",
    "Movie revenue is indicated by the 'Domestic Gross' (column E) and 'World Gross' (column F) values.\n",
    "\n",
    "Let us select 'World Gross' as the terget.\n",
    "\n",
    "Now the only feature that actually seems to effect this revenue is 'Production Budget'.\n",
    "\n",
    "So our hypothesis is to predict the 'World Gross' value from the corresponding 'Production Budget' value.\n",
    "\n",
    "In Microsft Excel do the following:\n",
    "- Save the file as 'D1_Movie_revenue_Dataset_Clean.csv' (to save the original file from being altered).\n",
    "- Remove all other irrelevent columns, i.e. remove coulumns A, B, C, and E.\n",
    "- Change the titles of the remaining two columns to 'Production_Budget' and 'World_Gross' (remove spaces from names).\n",
    "- Since both the columns should contain numbers, remove the commas from the values. To do this, select all the numbers, right click->Format Cells->Numbers->select 'Numbers' and unclick 'Use 1000 Separator'.\n",
    "- Delete all rows where the data is missing, i.e. delete all the rows where 'World_Gross' is 0. To do this, sort the column on 'World_Gross'; all 0 entries will come on top; delete all these row. \n",
    "- How many rows did u delete? Is this number significant as compared to the total dataset size?\n",
    "\n",
    "All these steps can also been done through Python programming.\n",
    "\n",
    "Now keep this file for future use (will be used in upcoming notebooks)."
   ]
  },
  {
   "cell_type": "code",
   "execution_count": 27,
   "metadata": {},
   "outputs": [],
   "source": [
    "movie_revenue_clean = pd.read_csv('D1_Movie_Revenue_Dataset.csv')"
   ]
  },
  {
   "cell_type": "code",
   "execution_count": 28,
   "metadata": {},
   "outputs": [],
   "source": [
    "movie_revenue_clean.drop(columns=['Rank','Release Date', 'Title', 'Domestic Gross'], inplace=True)\n"
   ]
  },
  {
   "cell_type": "code",
   "execution_count": 29,
   "metadata": {
    "scrolled": false
   },
   "outputs": [],
   "source": [
    "movie_revenue_clean.rename(columns= {'Production Budget': 'Production_Budget', 'Worldwide Gross': 'World_Gross'}, inplace=True)"
   ]
  },
  {
   "cell_type": "code",
   "execution_count": 42,
   "metadata": {
    "scrolled": true
   },
   "outputs": [
    {
     "data": {
      "text/html": [
       "<div>\n",
       "<style scoped>\n",
       "    .dataframe tbody tr th:only-of-type {\n",
       "        vertical-align: middle;\n",
       "    }\n",
       "\n",
       "    .dataframe tbody tr th {\n",
       "        vertical-align: top;\n",
       "    }\n",
       "\n",
       "    .dataframe thead th {\n",
       "        text-align: right;\n",
       "    }\n",
       "</style>\n",
       "<table border=\"1\" class=\"dataframe\">\n",
       "  <thead>\n",
       "    <tr style=\"text-align: right;\">\n",
       "      <th></th>\n",
       "      <th>Production_Budget</th>\n",
       "      <th>World_Gross</th>\n",
       "    </tr>\n",
       "  </thead>\n",
       "  <tbody>\n",
       "    <tr>\n",
       "      <th>0</th>\n",
       "      <td>400000000</td>\n",
       "      <td>2797800564</td>\n",
       "    </tr>\n",
       "    <tr>\n",
       "      <th>1</th>\n",
       "      <td>379000000</td>\n",
       "      <td>1045713802</td>\n",
       "    </tr>\n",
       "    <tr>\n",
       "      <th>2</th>\n",
       "      <td>365000000</td>\n",
       "      <td>1395316979</td>\n",
       "    </tr>\n",
       "    <tr>\n",
       "      <th>3</th>\n",
       "      <td>306000000</td>\n",
       "      <td>2064615817</td>\n",
       "    </tr>\n",
       "    <tr>\n",
       "      <th>4</th>\n",
       "      <td>300000000</td>\n",
       "      <td>2044540523</td>\n",
       "    </tr>\n",
       "    <tr>\n",
       "      <th>...</th>\n",
       "      <td>...</td>\n",
       "      <td>...</td>\n",
       "    </tr>\n",
       "    <tr>\n",
       "      <th>6164</th>\n",
       "      <td>7000</td>\n",
       "      <td>0</td>\n",
       "    </tr>\n",
       "    <tr>\n",
       "      <th>6165</th>\n",
       "      <td>6000</td>\n",
       "      <td>240495</td>\n",
       "    </tr>\n",
       "    <tr>\n",
       "      <th>6166</th>\n",
       "      <td>5000</td>\n",
       "      <td>1338</td>\n",
       "    </tr>\n",
       "    <tr>\n",
       "      <th>6167</th>\n",
       "      <td>1400</td>\n",
       "      <td>0</td>\n",
       "    </tr>\n",
       "    <tr>\n",
       "      <th>6168</th>\n",
       "      <td>1100</td>\n",
       "      <td>181041</td>\n",
       "    </tr>\n",
       "  </tbody>\n",
       "</table>\n",
       "<p>6169 rows × 2 columns</p>\n",
       "</div>"
      ],
      "text/plain": [
       "     Production_Budget World_Gross\n",
       "0            400000000  2797800564\n",
       "1            379000000  1045713802\n",
       "2            365000000  1395316979\n",
       "3            306000000  2064615817\n",
       "4            300000000  2044540523\n",
       "...                ...         ...\n",
       "6164              7000           0\n",
       "6165              6000      240495\n",
       "6166              5000        1338\n",
       "6167              1400           0\n",
       "6168              1100      181041\n",
       "\n",
       "[6169 rows x 2 columns]"
      ]
     },
     "execution_count": 42,
     "metadata": {},
     "output_type": "execute_result"
    }
   ],
   "source": [
    "movie_revenue_clean"
   ]
  },
  {
   "cell_type": "code",
   "execution_count": null,
   "metadata": {},
   "outputs": [],
   "source": [
    "movie_revenue_clean['Production_Budget'] = movie_revenue_clean['Production_Budget'].str.replace(\",\", \"\")\n",
    "movie_revenue_clean['World_Gross'] = movie_revenue_clean['World_Gross'].str.replace(\",\", \"\")"
   ]
  },
  {
   "cell_type": "markdown",
   "metadata": {},
   "source": [
    "# technique 1 for dropping '0' values"
   ]
  },
  {
   "cell_type": "code",
   "execution_count": 14,
   "metadata": {},
   "outputs": [],
   "source": [
    "for value in range(len(movie_revenue_clean.loc[:,'World_Gross'])):\n",
    "    \n",
    "    if (movie_revenue_clean['World_Gross'][value] =='0'):\n",
    "        movie_revenue_clean.drop(index=value, inplace=True, axis=1)\n",
    "    \n"
   ]
  },
  {
   "cell_type": "markdown",
   "metadata": {},
   "source": [
    "# technique 2 for dropping '0' values\n"
   ]
  },
  {
   "cell_type": "code",
   "execution_count": 32,
   "metadata": {
    "scrolled": true
   },
   "outputs": [
    {
     "data": {
      "text/plain": [
       "73      0\n",
       "147     0\n",
       "213     0\n",
       "214     0\n",
       "239     0\n",
       "       ..\n",
       "6148    0\n",
       "6151    0\n",
       "6158    0\n",
       "6164    0\n",
       "6167    0\n",
       "Name: World_Gross, Length: 396, dtype: object"
      ]
     },
     "execution_count": 32,
     "metadata": {},
     "output_type": "execute_result"
    }
   ],
   "source": [
    "# values_to_drop= movie_revenue_clean[movie_revenue_clean['World_Gross']=='0']\n",
    "# values_to_drop['World_Gross']\n",
    "\n",
    "# testing\n",
    "# movie_cleaned= movie_revenue_clean.drop(index=values_to_drop.index, axis=1)\n",
    "# movie_cleaned[movie_cleaned['World_Gross']=='0']\n",
    "\n",
    "\n",
    "#code for technique 2\n",
    "#movie_revenue_clean.drop(index=values_to_drop.index, axis=1, inplace=True)"
   ]
  },
  {
   "cell_type": "code",
   "execution_count": 84,
   "metadata": {
    "scrolled": true
   },
   "outputs": [
    {
     "data": {
      "text/plain": [
       "20000000    239\n",
       "10000000    229\n",
       "30000000    188\n",
       "15000000    179\n",
       "40000000    177\n",
       "           ... \n",
       "14200000      1\n",
       "13900000      1\n",
       "13400000      1\n",
       "12800000      1\n",
       "1100          1\n",
       "Name: Production_Budget, Length: 504, dtype: int64"
      ]
     },
     "execution_count": 84,
     "metadata": {},
     "output_type": "execute_result"
    }
   ],
   "source": [
    "movie_revenue_clean['Production_Budget'].value_counts()"
   ]
  },
  {
   "cell_type": "code",
   "execution_count": 88,
   "metadata": {},
   "outputs": [],
   "source": [
    "movie_revenue_clean.reset_index(drop=True, inplace=True)"
   ]
  },
  {
   "cell_type": "code",
   "execution_count": 90,
   "metadata": {},
   "outputs": [
    {
     "name": "stdout",
     "output_type": "stream",
     "text": [
      "<class 'pandas.core.frame.DataFrame'>\n",
      "RangeIndex: 5773 entries, 0 to 5772\n",
      "Data columns (total 2 columns):\n",
      " #   Column             Non-Null Count  Dtype \n",
      "---  ------             --------------  ----- \n",
      " 0   Production_Budget  5773 non-null   object\n",
      " 1   World_Gross        5773 non-null   object\n",
      "dtypes: object(2)\n",
      "memory usage: 90.3+ KB\n"
     ]
    },
    {
     "data": {
      "text/html": [
       "<div>\n",
       "<style scoped>\n",
       "    .dataframe tbody tr th:only-of-type {\n",
       "        vertical-align: middle;\n",
       "    }\n",
       "\n",
       "    .dataframe tbody tr th {\n",
       "        vertical-align: top;\n",
       "    }\n",
       "\n",
       "    .dataframe thead th {\n",
       "        text-align: right;\n",
       "    }\n",
       "</style>\n",
       "<table border=\"1\" class=\"dataframe\">\n",
       "  <thead>\n",
       "    <tr style=\"text-align: right;\">\n",
       "      <th></th>\n",
       "      <th>Production_Budget</th>\n",
       "      <th>World_Gross</th>\n",
       "    </tr>\n",
       "  </thead>\n",
       "  <tbody>\n",
       "    <tr>\n",
       "      <th>count</th>\n",
       "      <td>5773</td>\n",
       "      <td>5773</td>\n",
       "    </tr>\n",
       "    <tr>\n",
       "      <th>unique</th>\n",
       "      <td>504</td>\n",
       "      <td>5717</td>\n",
       "    </tr>\n",
       "    <tr>\n",
       "      <th>top</th>\n",
       "      <td>20000000</td>\n",
       "      <td>8000000</td>\n",
       "    </tr>\n",
       "    <tr>\n",
       "      <th>freq</th>\n",
       "      <td>239</td>\n",
       "      <td>8</td>\n",
       "    </tr>\n",
       "  </tbody>\n",
       "</table>\n",
       "</div>"
      ],
      "text/plain": [
       "       Production_Budget World_Gross\n",
       "count               5773        5773\n",
       "unique               504        5717\n",
       "top             20000000     8000000\n",
       "freq                 239           8"
      ]
     },
     "execution_count": 90,
     "metadata": {},
     "output_type": "execute_result"
    }
   ],
   "source": [
    "movie_revenue_clean.info()\n",
    "movie_revenue_clean.describe()"
   ]
  },
  {
   "cell_type": "code",
   "execution_count": null,
   "metadata": {},
   "outputs": [],
   "source": []
  },
  {
   "cell_type": "code",
   "execution_count": null,
   "metadata": {},
   "outputs": [],
   "source": []
  }
 ],
 "metadata": {
  "kernelspec": {
   "display_name": "Python 3 (ipykernel)",
   "language": "python",
   "name": "python3"
  },
  "language_info": {
   "codemirror_mode": {
    "name": "ipython",
    "version": 3
   },
   "file_extension": ".py",
   "mimetype": "text/x-python",
   "name": "python",
   "nbconvert_exporter": "python",
   "pygments_lexer": "ipython3",
   "version": "3.9.7"
  }
 },
 "nbformat": 4,
 "nbformat_minor": 4
}
